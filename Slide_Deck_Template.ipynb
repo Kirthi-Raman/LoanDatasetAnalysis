{
 "cells": [
  {
   "cell_type": "markdown",
   "metadata": {},
   "source": [
    "# Prosper Loan Data Exploration"
   ]
  },
  {
   "cell_type": "markdown",
   "metadata": {},
   "source": [
    "## Investigation Overview\n",
    "\n",
    "In this investigation, I looked at the characteristics of loan dataset that could be used to predict the loan status outcome and interest rate. The main focus was on the LoanOriginalAmount, CreditScoreRangeLower, StatedMonthlyIncome and DebtToIncomeRatio.\n",
    "\n",
    "## Dataset Overview\n",
    "\n",
    "This document explores a dataset containing loan information of approximately 113938 loans with 81 attributes. 66 columns were ignored since they were not necessary in our prediction. 9,940 data points were removed from analysis due to inconsistencies or missing information."
   ]
  },
  {
   "cell_type": "code",
   "execution_count": 1,
   "metadata": {},
   "outputs": [],
   "source": [
    "# import all packages and set plots to be embedded inline\n",
    "import numpy as np\n",
    "import pandas as pd\n",
    "import matplotlib.pyplot as plt\n",
    "import seaborn as sb\n",
    "\n",
    "%matplotlib inline\n",
    "\n",
    "# suppress warnings from final output\n",
    "import warnings\n",
    "warnings.simplefilter(\"ignore\")"
   ]
  },
  {
   "cell_type": "code",
   "execution_count": 2,
   "metadata": {},
   "outputs": [
    {
     "name": "stdout",
     "output_type": "stream",
     "text": [
      "(103998, 15)\n"
     ]
    }
   ],
   "source": [
    "# load in the dataset into a pandas dataframe\n",
    "loan = pd.read_csv('prosperLoanData.csv')\n",
    "#print(loan.shape)\n",
    "\n",
    "# Remove columns that are not necessary in this analysis by dropping it\n",
    "loandf = loan.copy()\n",
    "loandf.drop(['ListingKey', 'ListingNumber', 'ListingCreationDate', 'CreditGrade', 'ClosedDate', 'LenderYield', 'EstimatedEffectiveYield', 'EstimatedLoss', 'EstimatedReturn', 'ProsperRating (numeric)', 'ProsperRating (Alpha)', 'ProsperScore', 'ListingCategory (numeric)', 'BorrowerState', 'Occupation', 'EmploymentStatusDuration', 'CurrentlyInGroup', 'GroupKey', 'DateCreditPulled', 'FirstRecordedCreditLine', 'CurrentCreditLines', 'TotalCreditLinespast7years', 'OpenRevolvingAccounts', 'OpenRevolvingMonthlyPayment', 'InquiriesLast6Months', 'TotalInquiries', 'CurrentDelinquencies', 'AmountDelinquent', 'DelinquenciesLast7Years', 'PublicRecordsLast10Years', 'PublicRecordsLast12Months', 'RevolvingCreditBalance', 'BankcardUtilization', 'AvailableBankcardCredit', 'TotalTrades', 'TradesNeverDelinquent (percentage)', 'TradesOpenedLast6Months', 'IncomeRange', 'IncomeVerifiable', 'LoanKey', 'TotalProsperLoans', 'TotalProsperPaymentsBilled', 'OnTimeProsperPayments', 'ProsperPaymentsLessThanOneMonthLate', 'ProsperPrincipalBorrowed', 'ProsperPrincipalOutstanding', 'ScorexChangeAtTimeOfListing', 'LoanCurrentDaysDelinquent', 'LoanFirstDefaultedCycleNumber', 'LoanMonthsSinceOrigination', 'LoanOriginationDate', 'LoanOriginationQuarter', 'MemberKey', 'LP_CustomerPayments', 'LP_CustomerPrincipalPayments', 'LP_InterestandFees', 'LP_ServiceFees', 'LP_CollectionFees', 'LP_GrossPrincipalLoss', 'LP_NetPrincipalLoss', 'LP_NonPrincipalRecoverypayments', 'PercentFunded', 'Recommendations', 'InvestmentFromFriendsCount', 'InvestmentFromFriendsAmount', 'Investors'], axis = 1, inplace = True) \n",
    "\n",
    "# Remove duplicated rows, keeping just the first out of 2 or more duplicated value\n",
    "loandf.drop_duplicates(keep = 'first', inplace = True)\n",
    "\n",
    "# If 'StatedMonthlyIncome' = 0, then we can drop these incomplete data since it does not make sense to predict loan repayment based on 0 income\n",
    "index_names = loandf[loandf.StatedMonthlyIncome == 0 ].index\n",
    "loandf.drop(index_names, inplace = True)\n",
    "\n",
    "# Remove rows with no/missing (NaN) DebtToIncomeRatio value\n",
    "index_names = loandf[loandf.DebtToIncomeRatio.isnull()].index\n",
    "loandf.drop(index_names, inplace = True)\n",
    "\n",
    "# In OpenCreditLines column,replace NaN value with 0\n",
    "loandf.OpenCreditLines = loandf.OpenCreditLines.fillna(0)\n",
    "\n",
    "# remove rows with CreditScoreRangeLower = NaN, since it does not help in predicting interest rate when credit score is missing.\n",
    "index_names = loandf[loandf.CreditScoreRangeLower.isnull()].index\n",
    "loandf.drop(index_names, inplace = True)\n",
    "\n",
    "# In ProsperPaymentsOneMonthPlusLate column,replace NaN value with 0\n",
    "loandf.ProsperPaymentsOneMonthPlusLate = loandf.ProsperPaymentsOneMonthPlusLate.fillna(0)\n",
    "\n",
    "# convert ProsperPaymentsOneMonthPlusLate column values to int values\n",
    "loandf.ProsperPaymentsOneMonthPlusLate = loandf.ProsperPaymentsOneMonthPlusLate.astype(int)\n",
    "\n",
    "# Rows and columns in the  dataset\n",
    "print(loandf.shape)"
   ]
  },
  {
   "cell_type": "code",
   "execution_count": null,
   "metadata": {},
   "outputs": [],
   "source": []
  }
 ],
 "metadata": {
  "kernelspec": {
   "display_name": "Python 3",
   "language": "python",
   "name": "python3"
  },
  "language_info": {
   "codemirror_mode": {
    "name": "ipython",
    "version": 3
   },
   "file_extension": ".py",
   "mimetype": "text/x-python",
   "name": "python",
   "nbconvert_exporter": "python",
   "pygments_lexer": "ipython3",
   "version": "3.6.4"
  }
 },
 "nbformat": 4,
 "nbformat_minor": 2
}
